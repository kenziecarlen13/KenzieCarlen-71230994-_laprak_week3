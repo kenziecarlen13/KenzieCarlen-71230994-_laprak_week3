{
 "cells": [
  {
   "cell_type": "code",
   "execution_count": 1,
   "metadata": {},
   "outputs": [
    {
     "name": "stdout",
     "output_type": "stream",
     "text": [
      "anda tidak demam\n"
     ]
    }
   ],
   "source": [
    "#soal 3.1 contoh 1\n",
    "try:\n",
    "    suhu = float(input(\"masukkan suhu tubuh anda:\"))\n",
    "    if suhu >= 38:\n",
    "        print(\"anda demam\")\n",
    "    else:\n",
    "            print(\"anda tidak demam\")\n",
    "except:\n",
    "    print(\"inputan suhu anda tidak bisa diidentifikasi\")"
   ]
  },
  {
   "cell_type": "code",
   "execution_count": 3,
   "metadata": {},
   "outputs": [
    {
     "name": "stdout",
     "output_type": "stream",
     "text": [
      "positif\n"
     ]
    }
   ],
   "source": [
    "#soal 3.1 contoh 2\n",
    "try:\n",
    "    bilangan = int(input('masukkan satu bilangan:'))\n",
    "    print(\"positif\" if bilangan > 0 else(\"negatif\" if bilangan < 0 else\"netral\"))\n",
    "except:\n",
    "    print(\"yang anda masukkan bukan bilangan.\")"
   ]
  },
  {
   "cell_type": "code",
   "execution_count": 7,
   "metadata": {},
   "outputs": [
    {
     "name": "stdout",
     "output_type": "stream",
     "text": [
      "terbesar : 3\n"
     ]
    }
   ],
   "source": [
    "#soal 3.1 contoh 3\n",
    "a = int(input(\"masukkan bilangan pertama: \"))\n",
    "b = int(input(\"masukkan bilangan kedua  : \"))\n",
    "c = int(input(\"masukkan bilangan ketiga : \"))\n",
    "\n",
    "try:\n",
    "    a = int(a)\n",
    "    b = int(b)\n",
    "    c = int(c)\n",
    "    \n",
    "    if a > b and a > c:\n",
    "        print(\"terbesar :\", a)\n",
    "    elif b > a and b > c:\n",
    "        print(\"terbesar :\", b)        \n",
    "    elif c > a and c > b:\n",
    "        print(\"terbesar :\", c)\n",
    "    else:\n",
    "        print(\"angka yang anda masukkan sama\")\n",
    "except:\n",
    "    print(\"yang anda masukkan bukan bilangan\")"
   ]
  },
  {
   "cell_type": "code",
   "execution_count": 6,
   "metadata": {},
   "outputs": [
    {
     "name": "stdout",
     "output_type": "stream",
     "text": [
      "positif\n"
     ]
    }
   ],
   "source": [
    "#soal 3.2 (ternary operator)\n",
    "bilangan = int(input('masukkan satu bilangan:'))\n",
    "print(\"positif\" if bilangan > 0 else(\"negatif\" if bilangan < 0 else\"netral\"))"
   ]
  },
  {
   "cell_type": "code",
   "execution_count": 5,
   "metadata": {},
   "outputs": [
    {
     "name": "stdout",
     "output_type": "stream",
     "text": [
      "jumlah hari 31\n"
     ]
    }
   ],
   "source": [
    "#soal 3.3 \n",
    "try:    \n",
    "    bul = int(input(\"masukkan bulan(1-12):\"))\n",
    "\n",
    "    if bul == 2:\n",
    "        print(\"jumlah hari 29\")\n",
    "    elif bul == 1 or bul == 3 or bul == 5 or bul == 7 or bul == 8 or bul == 10 or bul == 12:\n",
    "        print(\"jumlah hari 31\")\n",
    "    elif bul == 4 or bul == 6 or bul == 9 or bul == 11:\n",
    "        print(\"jumlah hari 30\")\n",
    "    else:\n",
    "        print(\"inputan bulan tidak valid\")\n",
    "        \n",
    "except:\n",
    "    print(\"inputan bulan tidak valid\")"
   ]
  },
  {
   "cell_type": "code",
   "execution_count": 4,
   "metadata": {},
   "outputs": [
    {
     "name": "stdout",
     "output_type": "stream",
     "text": [
      "input variabel tidak valid\n"
     ]
    }
   ],
   "source": [
    "#soal 3.4 \n",
    "try:\n",
    "    s1 = float(input(\"masukkan panjang sisi 1:\"))\n",
    "    s2 = float(input(\"masukkan panjang sisi 2:\"))\n",
    "    s3 = float(input(\"masukkan panjang sisi 3:\"))\n",
    "\n",
    "    if s1 == s2 == s3:\n",
    "        print(\"3 sisi sama\")\n",
    "    elif s1 == s2 != s3 or s1 == s3 != s2 or s2 == s3 != s1:\n",
    "        print(\"2 sisi sama\")\n",
    "    elif s1 != s2 != s3:\n",
    "        print(\"tidak ada sisi yang sama\")\n",
    "except:\n",
    "    print(\"input variabel tidak valid\")\n",
    "    "
   ]
  }
 ],
 "metadata": {
  "kernelspec": {
   "display_name": "base",
   "language": "python",
   "name": "python3"
  },
  "language_info": {
   "codemirror_mode": {
    "name": "ipython",
    "version": 3
   },
   "file_extension": ".py",
   "mimetype": "text/x-python",
   "name": "python",
   "nbconvert_exporter": "python",
   "pygments_lexer": "ipython3",
   "version": "3.11.5"
  }
 },
 "nbformat": 4,
 "nbformat_minor": 2
}
